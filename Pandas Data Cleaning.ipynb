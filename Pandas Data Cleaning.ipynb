{
 "cells": [
  {
   "cell_type": "code",
   "execution_count": 188,
   "id": "1fc8daca-2969-4d20-a58f-7b53124a57e1",
   "metadata": {},
   "outputs": [],
   "source": [
    "import pandas as pd"
   ]
  },
  {
   "cell_type": "code",
   "execution_count": 207,
   "id": "c89764b2-1bca-435f-95d6-eef870c3ed86",
   "metadata": {},
   "outputs": [],
   "source": [
    "df = pd.read_csv(\"data.csv\")"
   ]
  },
  {
   "cell_type": "code",
   "execution_count": 208,
   "id": "c3602175-f69a-4bed-8e08-5e9142ff3f29",
   "metadata": {},
   "outputs": [],
   "source": [
    "# df.head()"
   ]
  },
  {
   "cell_type": "code",
   "execution_count": 210,
   "id": "08556bea-e581-4908-a7b7-97bca4c95d71",
   "metadata": {},
   "outputs": [
    {
     "data": {
      "text/plain": [
       "<bound method NDFrame.describe of     Duration          Date Pulse  Maxpulse  Calories\n",
       "0         60  '2020/12/01'   110       130     409.1\n",
       "1         60  '2020/12/02'   117       145     479.0\n",
       "2         60  '2020/12/03'   103       135     340.0\n",
       "3         45  '2020/12/04'   109       175     282.4\n",
       "4         45  '2020/12/05'   117       148     406.0\n",
       "5         60  '2020/12/06'   102       127     300.0\n",
       "6         60  '2020/12/07'   110       136     374.0\n",
       "7        450  '2020/12/08'   104       134     253.3\n",
       "8         30  '2020/12/09'   109       133     195.1\n",
       "9         60  '2020/12/10'     b       124     269.0\n",
       "10        60  '2020/12/11'   103       147     329.3\n",
       "11        60  '2020/12/12'   100       120     250.7\n",
       "12        60  '2020/12/12'   100       120     250.7\n",
       "13        60  '2020/12/13'   106       128     345.3\n",
       "14        60  '2020/12/14'   104       132     379.3\n",
       "15        60  '2020/12/15'    98       123     275.0\n",
       "16        60  '2020/12/16'    98       120     215.2\n",
       "17        60  '2020/12/17'   100       120     300.0\n",
       "18        45  '2020/12/18'    90       112       NaN\n",
       "19        60  '2020/12/19'   103       123     323.0\n",
       "20        45  '2020/12/20'    97       125     243.0\n",
       "21        60  '2020/12/21'   108       131     364.2\n",
       "22        45   2020/12/22'   100       119     282.0\n",
       "23        60  '2020/12/23'   130       101     300.0\n",
       "24        45  '2020/12/24'   105       132     246.0\n",
       "25        60  '2020/12/25'   102       126     334.5\n",
       "26        60   2020/12/26'   100       120     250.0\n",
       "27        60  '2020/12/27'    92       118     241.0\n",
       "28        60  '2020/12/28'   103       132       NaN\n",
       "29        60  '2020/12/29'   100       132     280.0\n",
       "30        60  '2020/12/30'   102       129     380.3\n",
       "31        60  '2020/12/31'    92       115     243.0>"
      ]
     },
     "execution_count": 210,
     "metadata": {},
     "output_type": "execute_result"
    }
   ],
   "source": [
    "df.describe"
   ]
  },
  {
   "cell_type": "code",
   "execution_count": 205,
   "id": "ea7f7fe2-72b2-4412-95d7-68575b922646",
   "metadata": {},
   "outputs": [
    {
     "data": {
      "text/plain": [
       "Name       0\n",
       "Email      0\n",
       "Phone      0\n",
       "Address    0\n",
       "dtype: int64"
      ]
     },
     "execution_count": 205,
     "metadata": {},
     "output_type": "execute_result"
    }
   ],
   "source": [
    "# Check the null value in dataset.\n",
    "# df.isnull()\n",
    "df.isna().sum()"
   ]
  },
  {
   "cell_type": "code",
   "execution_count": 194,
   "id": "0a5835bc-1405-4708-92d3-47d5feb2ddda",
   "metadata": {},
   "outputs": [],
   "source": [
    "# Fill the null value with specific value\n",
    "df.fillna(130, inplace = True)"
   ]
  },
  {
   "cell_type": "code",
   "execution_count": 195,
   "id": "51ee1881-831e-418c-a2b4-03faf58b3e72",
   "metadata": {},
   "outputs": [
    {
     "name": "stdout",
     "output_type": "stream",
     "text": [
      "    Duration          Date Pulse  Maxpulse  Calories\n",
      "0         60  '2020/12/01'   110       130     409.1\n",
      "1         60  '2020/12/02'   117       145     479.0\n",
      "2         60  '2020/12/03'   103       135     340.0\n",
      "3         45  '2020/12/04'   109       175     282.4\n",
      "4         45  '2020/12/05'   117       148     406.0\n",
      "5         60  '2020/12/06'   102       127     300.0\n",
      "6         60  '2020/12/07'   110       136     374.0\n",
      "7        450  '2020/12/08'   104       134     253.3\n",
      "8         30  '2020/12/09'   109       133     195.1\n",
      "9         60  '2020/12/10'     b       124     269.0\n",
      "10        60  '2020/12/11'   103       147     329.3\n",
      "11        60  '2020/12/12'   100       120     250.7\n",
      "12        60  '2020/12/12'   100       120     250.7\n",
      "13        60  '2020/12/13'   106       128     345.3\n",
      "14        60  '2020/12/14'   104       132     379.3\n",
      "15        60  '2020/12/15'    98       123     275.0\n",
      "16        60  '2020/12/16'    98       120     215.2\n",
      "17        60  '2020/12/17'   100       120     300.0\n",
      "18        45  '2020/12/18'    90       112     130.0\n",
      "19        60  '2020/12/19'   103       123     323.0\n",
      "20        45  '2020/12/20'    97       125     243.0\n",
      "21        60  '2020/12/21'   108       131     364.2\n",
      "22        45   2020/12/22'   100       119     282.0\n",
      "23        60  '2020/12/23'   130       101     300.0\n",
      "24        45  '2020/12/24'   105       132     246.0\n",
      "25        60  '2020/12/25'   102       126     334.5\n",
      "26        60   2020/12/26'   100       120     250.0\n",
      "27        60  '2020/12/27'    92       118     241.0\n",
      "28        60  '2020/12/28'   103       132     130.0\n",
      "29        60  '2020/12/29'   100       132     280.0\n",
      "30        60  '2020/12/30'   102       129     380.3\n",
      "31        60  '2020/12/31'    92       115     243.0\n"
     ]
    }
   ],
   "source": [
    "# Describe the dataset\n",
    "print(df)"
   ]
  },
  {
   "cell_type": "code",
   "execution_count": 24,
   "id": "2541b46c-ab12-4ecc-9600-fc9d5320cc11",
   "metadata": {},
   "outputs": [],
   "source": [
    "# Drop row having null value\n",
    "df.dropna(inplace = True)"
   ]
  },
  {
   "cell_type": "code",
   "execution_count": 50,
   "id": "f65ef3ca-380d-4be3-b33d-aeb13d7c3e33",
   "metadata": {},
   "outputs": [],
   "source": [
    "# fill specific column having null value\n",
    "df.fillna({'Calories': 120}, inplace = True)"
   ]
  },
  {
   "cell_type": "code",
   "execution_count": 58,
   "id": "46612ba8-667b-491c-a9a0-9835b34b9e64",
   "metadata": {},
   "outputs": [],
   "source": [
    "x = df[\"Calories\"].mean()"
   ]
  },
  {
   "cell_type": "code",
   "execution_count": 64,
   "id": "ad800f99-fe82-40c5-b37d-923825a30bd5",
   "metadata": {},
   "outputs": [],
   "source": [
    "df.fillna({'Calories': x}, inplace = True)"
   ]
  },
  {
   "cell_type": "code",
   "execution_count": 100,
   "id": "ee3ae6cc-a790-4d8c-a77f-0a410ff1e8b6",
   "metadata": {},
   "outputs": [],
   "source": [
    "# Removing wrong format"
   ]
  },
  {
   "cell_type": "code",
   "execution_count": 196,
   "id": "30bfebf7-99c0-4959-9bab-86852dc27d0b",
   "metadata": {},
   "outputs": [],
   "source": [
    "df['Pulse'] = pd.to_numeric(df['Pulse'], errors='coerce')\n",
    "# Use pd.to_numeric with errors='coerce' to convert invalid values to NaN"
   ]
  },
  {
   "cell_type": "code",
   "execution_count": 197,
   "id": "78dab38d-83b9-4967-b762-c780836b5359",
   "metadata": {},
   "outputs": [
    {
     "name": "stdout",
     "output_type": "stream",
     "text": [
      "    Duration          Date  Pulse  Maxpulse  Calories\n",
      "0         60  '2020/12/01'  110.0       130     409.1\n",
      "1         60  '2020/12/02'  117.0       145     479.0\n",
      "2         60  '2020/12/03'  103.0       135     340.0\n",
      "3         45  '2020/12/04'  109.0       175     282.4\n",
      "4         45  '2020/12/05'  117.0       148     406.0\n",
      "5         60  '2020/12/06'  102.0       127     300.0\n",
      "6         60  '2020/12/07'  110.0       136     374.0\n",
      "7        450  '2020/12/08'  104.0       134     253.3\n",
      "8         30  '2020/12/09'  109.0       133     195.1\n",
      "9         60  '2020/12/10'    NaN       124     269.0\n",
      "10        60  '2020/12/11'  103.0       147     329.3\n",
      "11        60  '2020/12/12'  100.0       120     250.7\n",
      "12        60  '2020/12/12'  100.0       120     250.7\n",
      "13        60  '2020/12/13'  106.0       128     345.3\n",
      "14        60  '2020/12/14'  104.0       132     379.3\n",
      "15        60  '2020/12/15'   98.0       123     275.0\n",
      "16        60  '2020/12/16'   98.0       120     215.2\n",
      "17        60  '2020/12/17'  100.0       120     300.0\n",
      "18        45  '2020/12/18'   90.0       112     130.0\n",
      "19        60  '2020/12/19'  103.0       123     323.0\n",
      "20        45  '2020/12/20'   97.0       125     243.0\n",
      "21        60  '2020/12/21'  108.0       131     364.2\n",
      "22        45   2020/12/22'  100.0       119     282.0\n",
      "23        60  '2020/12/23'  130.0       101     300.0\n",
      "24        45  '2020/12/24'  105.0       132     246.0\n",
      "25        60  '2020/12/25'  102.0       126     334.5\n",
      "26        60   2020/12/26'  100.0       120     250.0\n",
      "27        60  '2020/12/27'   92.0       118     241.0\n",
      "28        60  '2020/12/28'  103.0       132     130.0\n",
      "29        60  '2020/12/29'  100.0       132     280.0\n",
      "30        60  '2020/12/30'  102.0       129     380.3\n",
      "31        60  '2020/12/31'   92.0       115     243.0\n"
     ]
    }
   ],
   "source": [
    "print(df)"
   ]
  },
  {
   "cell_type": "code",
   "execution_count": 200,
   "id": "a9fe159f-a0e8-47a9-a43e-8a32b2bdfd02",
   "metadata": {},
   "outputs": [
    {
     "name": "stdout",
     "output_type": "stream",
     "text": [
      "    Duration          Date  Pulse  Maxpulse  Calories\n",
      "0         60  '2020/12/01'  110.0       130     409.1\n",
      "1         60  '2020/12/02'  117.0       145     479.0\n",
      "2         60  '2020/12/03'  103.0       135     340.0\n",
      "3         45  '2020/12/04'  109.0       175     282.4\n",
      "4         45  '2020/12/05'  117.0       148     406.0\n",
      "5         60  '2020/12/06'  102.0       127     300.0\n",
      "6         60  '2020/12/07'  110.0       136     374.0\n",
      "7        450  '2020/12/08'  104.0       134     253.3\n",
      "8         30  '2020/12/09'  109.0       133     195.1\n",
      "10        60  '2020/12/11'  103.0       147     329.3\n",
      "11        60  '2020/12/12'  100.0       120     250.7\n",
      "12        60  '2020/12/12'  100.0       120     250.7\n",
      "13        60  '2020/12/13'  106.0       128     345.3\n",
      "14        60  '2020/12/14'  104.0       132     379.3\n",
      "15        60  '2020/12/15'   98.0       123     275.0\n",
      "16        60  '2020/12/16'   98.0       120     215.2\n",
      "17        60  '2020/12/17'  100.0       120     300.0\n",
      "18        45  '2020/12/18'   90.0       112     130.0\n",
      "19        60  '2020/12/19'  103.0       123     323.0\n",
      "20        45  '2020/12/20'   97.0       125     243.0\n",
      "21        60  '2020/12/21'  108.0       131     364.2\n",
      "22        45   2020/12/22'  100.0       119     282.0\n",
      "23        60  '2020/12/23'  130.0       101     300.0\n",
      "24        45  '2020/12/24'  105.0       132     246.0\n",
      "25        60  '2020/12/25'  102.0       126     334.5\n",
      "26        60   2020/12/26'  100.0       120     250.0\n",
      "27        60  '2020/12/27'   92.0       118     241.0\n",
      "28        60  '2020/12/28'  103.0       132     130.0\n",
      "29        60  '2020/12/29'  100.0       132     280.0\n",
      "30        60  '2020/12/30'  102.0       129     380.3\n",
      "31        60  '2020/12/31'   92.0       115     243.0\n"
     ]
    }
   ],
   "source": [
    "df.dropna(subset=['Pulse'], inplace = True)\n",
    "# Drop rows where 'Pulse' column has NaN values\n",
    "print(df)"
   ]
  },
  {
   "cell_type": "code",
   "execution_count": 127,
   "id": "c8747a9d-187c-44d5-8145-0091bf7a4ef5",
   "metadata": {},
   "outputs": [],
   "source": [
    "p = df.loc[7, 'Duration']"
   ]
  },
  {
   "cell_type": "code",
   "execution_count": 136,
   "id": "15cb43d8-06db-4ba4-a2e8-ab6f969ac726",
   "metadata": {},
   "outputs": [],
   "source": [
    "df.loc[7, 'Duration'] = 45\n",
    "# Row and lebel based indexing"
   ]
  },
  {
   "cell_type": "code",
   "execution_count": 138,
   "id": "f12acff0-3c38-45fd-af98-4a6ed77f066f",
   "metadata": {},
   "outputs": [
    {
     "name": "stdout",
     "output_type": "stream",
     "text": [
      "44.0\n"
     ]
    }
   ],
   "source": [
    "print(p)"
   ]
  },
  {
   "cell_type": "code",
   "execution_count": 201,
   "id": "43e4eae3-e18a-40f9-9a2f-4f0a9fb8a9bc",
   "metadata": {},
   "outputs": [
    {
     "name": "stdout",
     "output_type": "stream",
     "text": [
      "7\n"
     ]
    }
   ],
   "source": [
    "for x in df.index:\n",
    "  if df.loc[x, \"Duration\"] > 120:\n",
    "    df.loc[x, \"Duration\"] = 120\n",
    "    print(x)"
   ]
  },
  {
   "cell_type": "code",
   "execution_count": 202,
   "id": "068b93d9-f166-4988-997a-db820609b3ef",
   "metadata": {},
   "outputs": [
    {
     "name": "stdout",
     "output_type": "stream",
     "text": [
      "    Duration          Date  Pulse  Maxpulse  Calories\n",
      "0         60  '2020/12/01'  110.0       130     409.1\n",
      "1         60  '2020/12/02'  117.0       145     479.0\n",
      "2         60  '2020/12/03'  103.0       135     340.0\n",
      "3         45  '2020/12/04'  109.0       175     282.4\n",
      "4         45  '2020/12/05'  117.0       148     406.0\n",
      "5         60  '2020/12/06'  102.0       127     300.0\n",
      "6         60  '2020/12/07'  110.0       136     374.0\n",
      "7        120  '2020/12/08'  104.0       134     253.3\n",
      "8         30  '2020/12/09'  109.0       133     195.1\n",
      "10        60  '2020/12/11'  103.0       147     329.3\n",
      "11        60  '2020/12/12'  100.0       120     250.7\n",
      "12        60  '2020/12/12'  100.0       120     250.7\n",
      "13        60  '2020/12/13'  106.0       128     345.3\n",
      "14        60  '2020/12/14'  104.0       132     379.3\n",
      "15        60  '2020/12/15'   98.0       123     275.0\n",
      "16        60  '2020/12/16'   98.0       120     215.2\n",
      "17        60  '2020/12/17'  100.0       120     300.0\n",
      "18        45  '2020/12/18'   90.0       112     130.0\n",
      "19        60  '2020/12/19'  103.0       123     323.0\n",
      "20        45  '2020/12/20'   97.0       125     243.0\n",
      "21        60  '2020/12/21'  108.0       131     364.2\n",
      "22        45   2020/12/22'  100.0       119     282.0\n",
      "23        60  '2020/12/23'  130.0       101     300.0\n",
      "24        45  '2020/12/24'  105.0       132     246.0\n",
      "25        60  '2020/12/25'  102.0       126     334.5\n",
      "26        60   2020/12/26'  100.0       120     250.0\n",
      "27        60  '2020/12/27'   92.0       118     241.0\n",
      "28        60  '2020/12/28'  103.0       132     130.0\n",
      "29        60  '2020/12/29'  100.0       132     280.0\n",
      "30        60  '2020/12/30'  102.0       129     380.3\n",
      "31        60  '2020/12/31'   92.0       115     243.0\n"
     ]
    }
   ],
   "source": [
    "print(df)"
   ]
  },
  {
   "cell_type": "code",
   "execution_count": 169,
   "id": "0efe4219-7e3d-4175-bfa0-76a4102c0da7",
   "metadata": {},
   "outputs": [],
   "source": [
    "# for x in df.index:\n",
    "#   if df.loc[x, \"Duration\"] > 120:\n",
    "#     df.drop(x, inplace = True)"
   ]
  },
  {
   "cell_type": "code",
   "execution_count": 171,
   "id": "2891c9de-8878-4e31-9e9f-11db28325fe8",
   "metadata": {},
   "outputs": [],
   "source": [
    "# Removing Duplication\n",
    "# print(df.duplicated())"
   ]
  },
  {
   "cell_type": "code",
   "execution_count": 172,
   "id": "289a0412-40ad-4311-ab35-0b3910543b5a",
   "metadata": {},
   "outputs": [],
   "source": [
    "df.drop_duplicates(inplace = True)\n",
    "# Remove Duplicates"
   ]
  },
  {
   "cell_type": "code",
   "execution_count": 174,
   "id": "630e42d9-57ac-44e6-a3fe-59170b6b2fca",
   "metadata": {},
   "outputs": [],
   "source": [
    "# print(df)"
   ]
  },
  {
   "cell_type": "code",
   "execution_count": 204,
   "id": "e9ebf1d5-7596-48f1-b2f1-288fb6abab74",
   "metadata": {},
   "outputs": [
    {
     "name": "stdout",
     "output_type": "stream",
     "text": [
      "             Name         Email       Phone     Address\n",
      "0  Ishwori poudel  mbust.edu.np  1234567890       Palpa\n",
      "1    Naveen bhatt  mbust.edu.np  5551234567  Kanchanpur\n",
      "2   Prabin mishra  mbust.edu.np  9860451932     Unknown\n",
      "3   Utsav bardewa  mbust.edu.np                 Unknown\n"
     ]
    }
   ],
   "source": [
    "data = {'Name': ['       ishwori Poudel ', 'naveen Bhatt       ', ' prabin Mishra         ', ' utsav Bardewa'],\n",
    "        'Email': ['ishwori@mbust.edu.np', 'naveen@mbust.edu.np', 'prabin@mbust.edu.np', 'utsav@mbust.edu.np'],\n",
    "        'Phone': ['123-456-7890', '555-123-4567', '9860-4519-3-2', ''],\n",
    "        'Address': ['Palpa', 'Kanchanpur', None, None]}\n",
    "\n",
    "df = pd.DataFrame(data)\n",
    "\n",
    "# Identify and handle missing values\n",
    "df['Address'] = df['Address'].fillna('Unknown')\n",
    "\n",
    "#  Apply string cleaning operations\n",
    "df['Name'] = df['Name'].str.strip()\n",
    "df['Name'] = df['Name'].str.capitalize()\n",
    "df['Phone'] = df['Phone'].str.replace('-', '')\n",
    "df['Email'] = df['Email'].str.split('@').str[1]\n",
    "\n",
    "# Verify the cleaned data\n",
    "print(df)\n",
    "# print(df.isnull())"
   ]
  },
  {
   "cell_type": "code",
   "execution_count": null,
   "id": "6b516db5-c854-4243-ab5d-57cb4aa843c4",
   "metadata": {},
   "outputs": [],
   "source": [
    "Using median calculations and IQR, outliers are identified and these data points should be removed\n",
    "Q1 = df[\"column_name\"].quantile(0.25)\n",
    "Q3 = df[\"column_name\"].quantile(0.75)\n",
    "IQR = Q3 - Q1\n",
    "lower_bound = Q1 - 1.5 * IQR\n",
    "upper_bound = Q3 + 1.5 * IQR\n",
    "df = df[df[\"column_name\"].between(lower_bound, upper_bound)]"
   ]
  }
 ],
 "metadata": {
  "kernelspec": {
   "display_name": "Python 3 (ipykernel)",
   "language": "python",
   "name": "python3"
  },
  "language_info": {
   "codemirror_mode": {
    "name": "ipython",
    "version": 3
   },
   "file_extension": ".py",
   "mimetype": "text/x-python",
   "name": "python",
   "nbconvert_exporter": "python",
   "pygments_lexer": "ipython3",
   "version": "3.12.3"
  }
 },
 "nbformat": 4,
 "nbformat_minor": 5
}
